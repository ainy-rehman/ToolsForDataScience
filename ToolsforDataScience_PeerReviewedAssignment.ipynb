{
  "nbformat": 4,
  "nbformat_minor": 0,
  "metadata": {
    "colab": {
      "provenance": []
    },
    "kernelspec": {
      "name": "python3",
      "display_name": "Python 3"
    },
    "language_info": {
      "name": "python"
    }
  },
  "cells": [
    {
      "cell_type": "markdown",
      "source": [
        "**Coursera Peer Review Assignement**"
      ],
      "metadata": {
        "id": "MbvMLZB1Nl4u"
      }
    },
    {
      "cell_type": "markdown",
      "source": [
        "Hi there, I am Ainy, an AI graduate with an interest in data. This is my assignment as a mandatory part of the course Tools for Data Science, and I will be completing it according to the provided guidelines to ensure I am doing it the right way."
      ],
      "metadata": {
        "id": "vXSKn5jtN3DD"
      }
    },
    {
      "cell_type": "markdown",
      "source": [
        "**Objectives:**\n",
        "\n",
        "- List popular languages for Data Science.\n",
        "- Introduce basic arithmetic expressions and operations.\n",
        "- Demonstrate the use of common data science tools and libraries.\n",
        "- Create and display tables using markdown.\n",
        "- Share the notebook through GitHub for collaboration.\n"
      ],
      "metadata": {
        "id": "54Q6UQgkQqZu"
      }
    },
    {
      "cell_type": "markdown",
      "source": [
        "There are multiple data science languages, but some of the most widely and commonly used are:\n",
        "*   Python\n",
        "*   R\n",
        "*   SQL\n",
        "*   Java"
      ],
      "metadata": {
        "id": "p5sdbxOKORBN"
      }
    },
    {
      "cell_type": "markdown",
      "source": [
        "Some of the most common libraries for data science:\n",
        "*   Python (NumPy, Pandas, Matplotlib, Scikit-learn, plotlty, seaborn, keras)\n",
        "*   R (dplyr, tidyr, caret, ggplot)\n"
      ],
      "metadata": {
        "id": "XHujhn3_O9hU"
      }
    },
    {
      "cell_type": "markdown",
      "source": [
        "| Tool           | Purpose                               |\n",
        "|----------------|---------------------------------------|\n",
        "| Jupyter        | Interactive computing and analysis   |\n",
        "| Python         | Programming language for data analysis and machine learning |\n",
        "| R              | Statistical computing and graphics    |\n",
        "| Pandas         | Data manipulation and analysis        |\n",
        "| SQL            | Database querying and management      |\n",
        "| Tableau        | Data visualization and business intelligence |\n",
        "| Power BI       | Data analysis and visualization tool  |"
      ],
      "metadata": {
        "id": "cx9qf8e1PV05"
      }
    },
    {
      "cell_type": "markdown",
      "source": [
        "And here is some basic arthimetic functions:\n",
        "\n",
        "1. **Addition**: Adding two numbers.\n",
        "   - Example: `5 + 3 = 8`\n",
        "   \n",
        "2. **Subtraction**: Subtracting one number from another.\n",
        "   - Example: `5 - 3 = 2`\n",
        "   \n",
        "3. **Multiplication**: Multiplying two numbers.\n",
        "   - Example: `5 * 3 = 15`\n",
        "   \n",
        "4. **Division**: Dividing one number by another.\n",
        "   - Example: `6 / 3 = 2`"
      ],
      "metadata": {
        "id": "XSTrhHQCPusT"
      }
    },
    {
      "cell_type": "code",
      "source": [
        "(2*3)+4"
      ],
      "metadata": {
        "colab": {
          "base_uri": "https://localhost:8080/"
        },
        "id": "fLZqi60bO6Hi",
        "outputId": "7d271be2-0cad-459a-aa62-787e51ffcc62"
      },
      "execution_count": 1,
      "outputs": [
        {
          "output_type": "execute_result",
          "data": {
            "text/plain": [
              "10"
            ]
          },
          "metadata": {},
          "execution_count": 1
        }
      ]
    },
    {
      "cell_type": "code",
      "source": [
        "200/60"
      ],
      "metadata": {
        "colab": {
          "base_uri": "https://localhost:8080/"
        },
        "id": "NdAId9YnN2jc",
        "outputId": "6b8ed9c0-508e-4c3e-d776-982a3a70fcf5"
      },
      "execution_count": 2,
      "outputs": [
        {
          "output_type": "execute_result",
          "data": {
            "text/plain": [
              "3.3333333333333335"
            ]
          },
          "metadata": {},
          "execution_count": 2
        }
      ]
    },
    {
      "cell_type": "markdown",
      "source": [
        "## Author\n",
        "Ainy"
      ],
      "metadata": {
        "id": "AN0R287NQ1Bz"
      }
    }
  ]
}