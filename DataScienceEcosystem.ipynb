{
  "nbformat": 4,
  "nbformat_minor": 0,
  "metadata": {
    "colab": {
      "provenance": []
    },
    "kernelspec": {
      "name": "python3",
      "display_name": "Python 3"
    },
    "language_info": {
      "name": "python"
    }
  },
  "cells": [
    {
      "cell_type": "markdown",
      "source": [
        "# Data Science Tools and Ecosystem"
      ],
      "metadata": {
        "id": "MbvMLZB1Nl4u"
      }
    },
    {
      "cell_type": "markdown",
      "source": [
        "In this notebook, Data Science Tools and Ecosystem are summarized.\n"
      ],
      "metadata": {
        "id": "vXSKn5jtN3DD"
      }
    },
    {
      "cell_type": "markdown",
      "source": [
        "**Objectives:**\n",
        "\n",
        "- List popular languages for Data Science.\n",
        "- Introduce basic arithmetic expressions and operations.\n",
        "- Demonstrate the use of common data science tools and libraries.\n",
        "- Create and display tables using markdown.\n",
        "- Share the notebook through GitHub for collaboration.\n"
      ],
      "metadata": {
        "id": "54Q6UQgkQqZu"
      }
    },
    {
      "cell_type": "markdown",
      "source": [
        "There are multiple data science languages, but some of the most widely and commonly used are:\n",
        "*   Python\n",
        "*   R\n",
        "*   SQL\n",
        "*   Java"
      ],
      "metadata": {
        "id": "p5sdbxOKORBN"
      }
    },
    {
      "cell_type": "markdown",
      "source": [
        "Some of the most common libraries for data science:\n",
        "*   NumPy\n",
        "*   Scickit-learn\n",
        "*   dplyr\n",
        "*   Pandas\n",
        "*   Matplotlib"
      ],
      "metadata": {
        "id": "XHujhn3_O9hU"
      }
    },
    {
      "cell_type": "markdown",
      "source": [
        "| Tool           | Purpose                               |\n",
        "|----------------|---------------------------------------|\n",
        "| Jupyter        | Interactive computing and analysis   |\n",
        "| Python         | Programming language for data analysis and machine learning |\n",
        "| R              | Statistical computing and graphics    |\n",
        "| Pandas         | Data manipulation and analysis        |\n",
        "| SQL            | Database querying and management      |\n",
        "| Tableau        | Data visualization and business intelligence |\n",
        "| Power BI       | Data analysis and visualization tool  |"
      ],
      "metadata": {
        "id": "cx9qf8e1PV05"
      }
    },
    {
      "cell_type": "markdown",
      "source": [
        "Below are a few examples of evaluating arithmetic expressions in Python\n"
      ],
      "metadata": {
        "id": "XSTrhHQCPusT"
      }
    },
    {
      "cell_type": "code",
      "source": [
        "# This a simple arithmetic expression to mutiply then add integers.\n",
        "(3*4)+5"
      ],
      "metadata": {
        "colab": {
          "base_uri": "https://localhost:8080/"
        },
        "id": "fLZqi60bO6Hi",
        "outputId": "9285cb2f-8df4-48cf-96f9-61146d4420f6"
      },
      "execution_count": 3,
      "outputs": [
        {
          "output_type": "execute_result",
          "data": {
            "text/plain": [
              "17"
            ]
          },
          "metadata": {},
          "execution_count": 3
        }
      ]
    },
    {
      "cell_type": "code",
      "source": [
        "# This will convert 200 minutes to hours by diving by 60\n",
        "200/60"
      ],
      "metadata": {
        "colab": {
          "base_uri": "https://localhost:8080/",
          "height": 0
        },
        "id": "NdAId9YnN2jc",
        "outputId": "6b8ed9c0-508e-4c3e-d776-982a3a70fcf5"
      },
      "execution_count": 2,
      "outputs": [
        {
          "output_type": "execute_result",
          "data": {
            "text/plain": [
              "3.3333333333333335"
            ]
          },
          "metadata": {},
          "execution_count": 2
        }
      ]
    },
    {
      "cell_type": "markdown",
      "source": [
        "#Author\n",
        "Ainy"
      ],
      "metadata": {
        "id": "AN0R287NQ1Bz"
      }
    }
  ]
}